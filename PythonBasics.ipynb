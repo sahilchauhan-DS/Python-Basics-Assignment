{
  "nbformat": 4,
  "nbformat_minor": 0,
  "metadata": {
    "colab": {
      "provenance": []
    },
    "kernelspec": {
      "name": "python3",
      "display_name": "Python 3"
    },
    "language_info": {
      "name": "python"
    }
  },
  "cells": [
    {
      "cell_type": "markdown",
      "source": [
        "THEORY QUESTIONS\n",
        "\n",
        "1. What is Python, and why is it popular ?\n",
        "-> Python is a popular programming language that's used for many tasks, including web development, data science, and machine learning. It's easy to learn, efficient, and can run on many platforms.\n",
        "\n",
        "Why is Python popular?\n",
        "Easy to learn:\n",
        "Python's syntax is simple and emphasizes natural language, making it easier to write and execute code.\n",
        "\n",
        "Open source :\n",
        "Python's source code is free to use and contribute to, making it one of the most widely used programming languages.\n",
        "\n",
        "Corporate support:\n",
        "Major corporations like Google, Microsoft, and Meta contribute to Python's ecosystem, helping it adapt to modern industry needs.\n",
        "\n",
        "Many libraries:\n",
        "Python has many libraries that handle complex calculations and computations.\n",
        "Runs on many platforms\n",
        "Python software is free to download and integrates well with all types of systems.\n",
        "\n",
        "\n",
        "2. What is an interpreter in Python?\n",
        "->  In Python, an interpreter is a program that reads and executes Python code line by line, translating it into machine-readable instructions for the computer to understand and perform.\n",
        "Here's a more detailed explanation:\n",
        "What it does:\n",
        "The Python interpreter takes your Python code (written in a text file, for example) and processes it, converting it into a form the computer can understand and execute.\n",
        "How it works:\n",
        "It reads the Python code, line by line.\n",
        "It translates the code into a lower-level representation called bytecode.\n",
        "It then executes the bytecode, which is a set of instructions that the Python virtual machine can understand.\n",
        "\n",
        "3. What are pre-defined keywords in Python?\n",
        "-> Python Keywords are some predefined and reserved words in Python that have special meanings. Keywords are used to define the syntax of the coding. The keyword cannot be used as an identifier, function, or variable name.\n",
        "\n",
        "4. Can keywords be used as variable names?\n",
        "->  No, you cannot use keywords as variable names in most programming languages because keywords are reserved words with predefined meanings used for language syntax and structure.\n",
        "\n",
        "5. What is mutability in Python?\n",
        "-> In Python, mutability refers to an object's ability to be changed after its creation. Mutable objects, like lists, dictionaries, and sets, can be modified in place, while immutable objects, like numbers, strings, and tuples, cannot be altered after creation, requiring new objects to be created for any modification.\n",
        "\n",
        "Here's a more detailed explanation:\n",
        "\n",
        "Mutable Objects:\n",
        "Definition:\n",
        "Mutable objects allow you to change their internal state or contents without creating a new object.\n",
        "\n",
        "Examples:\n",
        "Lists: You can add, remove, or modify elements in a list.\n",
        "Dictionaries: You can add, remove, or update key-value pairs in a dictionary.\n",
        "Sets: You can add or remove elements from a set."
      ],
      "metadata": {
        "id": "tKIADvwAzj5E"
      }
    },
    {
      "cell_type": "markdown",
      "source": [
        "6. Why are lists mutable, but tuples are immutable?\n",
        "-> The main reason why lists are mutable and tuples are immutable in Python comes down to their intended purposes and how they are designed for different use cases.\n",
        "\n",
        "1) Lists: Lists are meant to store collections of items that can change over time. The mutability of lists allows you to:\n",
        "\n",
        "-Add or remove items (e.g., using append(), remove(), or pop()).\n",
        "\n",
        "-Modify the elements at specific positions.\n",
        "\n",
        "This flexibility makes lists suitable for situations where you need a collection of items that can change dynamically.\n",
        "\n",
        "2) Tuples: Tuples, on the other hand, are designed to be immutable. This means once you create a tuple, you can't change it (i.e., no adding, removing, or modifying elements). The immutability of tuples offers several benefits:\n",
        "\n",
        "-Performance: Since tuples are immutable, Python can optimize memory usage and access speed, which makes them more efficient in certain situations, especially when used as keys in dictionaries.\n",
        "\n",
        "-Safety: When you want to ensure that a collection of data doesn't accidentally change, you can use a tuple. This immutability guarantees the integrity of the data, which is particularly useful in multi-threaded applications or when dealing with constant values.\n",
        "\n",
        "=Hashability: Tuples are hashable (as long as they contain only hashable elements), which means they can be used as keys in dictionaries or elements in sets. Lists, being mutable, are not hashable, so they cannot be used in such contexts.\n",
        "\n",
        "7. What is the difference between “==” and “is” operators in Python?\n",
        "\n",
        "-> The == operator helps us compare the equality of objects.The == operator is used in Python when the values of the operands are equal. In Python, == and is operators are both used for comparison but they serve different purposes. The == operator checks for equality of values which means it evaluates whether the values of two objects are the same.\n",
        "\n",
        "The 'is' is known as the identity operator.The is operator is used to check if different variables are pointing to the same object in memory. 'is' operator checks for identity, meaning it determines whether two variables point to the same object in memory.\n",
        "\n",
        "8. What are logical operators in Python?\n",
        "\n",
        "-> Logical operators in Python,is a symbol or word combines two or more operands and conduct logical comparisons on them. There are three types, i.e., AND, OR, and NOT. They return a boolean value, i.e., True or False. These operators, also known as Boolean operators, evaluate multiple conditions and determine an expression's overall truth value.\n",
        "\n",
        "9. What is type casting in Python?\n",
        "\n",
        "-> Type Casting is also known as type conversion, it is a process that converts a variable's data type into another data type. These conversions can be implicit (automatically interpreted) or explicit (using built-in function)\n",
        "\n",
        "Type casting, also known as type conversion, is the process of converting one data type into another. Ex: you want to change the data type of a variable from an integer 2 to a float 2.0. This is a case where you'd use type casting.\n",
        "\n",
        "10. What is the difference between implicit and explicit type casting?\n",
        "\n",
        "-> Implicit type casting: Implicit type casting, also known as widening conversion, is done automatically by the compiler when converting a smaller data type to a larger one. *Occurs automatically by the compiler or interpreter. *No special syntax or code is required. *Typically involves converting a smaller data type to a larger one (e.g., int to float) without any risk of data loss. Examples include converting from int to double or from a derived class to a base class.\n",
        "\n",
        "Explicit type casting: Explicit type casting, or type casting, requires the programmer to manually specify the conversion, often used when converting a larger type to a smaller one, which may result in data loss. *Requires the programmer to explicitly instruct the compiler to perform the conversion. *Uses a cast expression or operator (e.g., (int)). *Often used when converting a larger data type to a smaller one (e.g., float to int), which can potentially lead to data loss or truncation. Examples include converting from double to int or from a base class to a derived class.\n",
        "\n",
        "11. What is the purpose of conditional statements in Python?\n",
        "\n",
        "->. Conditional statements are an essential part of programming in Python.\n",
        "\n",
        "Conditional statements in Python are used to execute certain blocks of code based on specific conditions. These statements help control the flow of a program, making it behave differently in different situations. The purpose of conditional statements in programming languages like PHP is to enable decision-making, implement branching logic, and control the flow of execution based on specific conditions. They allow developers to create dynamic and responsive programs that can adapt to different scenarios and user inputs.\n",
        "\n",
        "\n",
        "12. How does the elif statement work?\n",
        "\n",
        "->. The “elif” keyword in Python, stands for “else if”. It can be used in conditional statements to check for multiple conditions. For example, if the first condition is false, it moves on to the next “elif” statement to check if that condition is true. In programming, \"else if\" is a conditional statement that allows you to specify multiple conditions to be evaluated in a sequence.\n",
        "\n",
        "13. What is the difference between for and while loops?\n",
        "\n",
        "-> For Loop: for loops are used when the number of iterations is known beforehand. Purpose: Used when you know how many times you want to repeat a block of code. Iteration Control: Iterates over a sequence (like a list, string, or range of numbers) or a counter variable. Readability: Often more readable when you're iterating over a known collection or a fixed number of times.\n",
        "\n",
        "  While Loop:\n",
        "  while loops are used when the number of iterations depends on a dynamic condition.\n",
        "  Purpose: Used when you want to repeat a block of code until a specific condition becomes false.\n",
        "  Iteration Control: Executes the code block as long as a condition is true.\n",
        "  Flexibility: More flexible for situations where the number of iterations isn't known in advance or depends on a dynamic conditions.\n",
        "\n",
        "14. Describe a scenario where a while loop is more suitable than a for loop?\n",
        "\n",
        "-> A 'while' loop is ideal for situations where the number of iterations is not predetermined and depends on some dynamic condition. If you want the loop to break based on a condition other than the number of times it runs, you should use a while loop. For example, if we want to ask a user for a number between 1 and 10, we don't know how many times the user may enter a larger number, so we keep asking \"while the number is not between 1 and 10\".\n",
        "\n",
        "\n",
        "PRACTICAL QUESTIONS\n",
        "\n",
        "\n"
      ],
      "metadata": {
        "id": "iWI3_fMc5mT0"
      }
    },
    {
      "cell_type": "code",
      "source": [
        "#Que.1 Write a Python program to print \"Hello, World!\n",
        "sen1 = \"Hello World\"\n",
        "print(sen1)\n"
      ],
      "metadata": {
        "colab": {
          "base_uri": "https://localhost:8080/"
        },
        "id": "hm4Z5-DF9yC5",
        "outputId": "3d2eff82-e8ec-4f04-8f13-cbf18af5cfc3"
      },
      "execution_count": null,
      "outputs": [
        {
          "output_type": "stream",
          "name": "stdout",
          "text": [
            "Hello World\n"
          ]
        }
      ]
    },
    {
      "cell_type": "code",
      "source": [
        "#Que.2 Write a Python program that displays your name and age8?\n",
        "\n",
        "#Example1:\n",
        "sen2 = \"My name is SAHIL.\"\n",
        "sen3 = \"My age is 25 years old.\"\n",
        "print(sen2)\n",
        "print(sen3)\n",
        "\n",
        "#Example2:\n",
        "sen4 =\"My name is SAHIL and my age is 25 years old\"\n",
        "print(sen4)"
      ],
      "metadata": {
        "colab": {
          "base_uri": "https://localhost:8080/"
        },
        "id": "h3LLnsDz-DkE",
        "outputId": "62956cc2-f785-4b9b-db40-db65713b8f19"
      },
      "execution_count": null,
      "outputs": [
        {
          "output_type": "stream",
          "name": "stdout",
          "text": [
            "My name is SAHIL.\n",
            "My age is 25 years old.\n",
            "My name is SAHIL and my age is 25 years old\n"
          ]
        }
      ]
    },
    {
      "cell_type": "code",
      "source": [
        "#Que.3 Write code to print all the pre-defined keywords in Python using the keyword library\n",
        "\n",
        "import keyword\n",
        "print(keyword.kwlist)\n"
      ],
      "metadata": {
        "colab": {
          "base_uri": "https://localhost:8080/"
        },
        "id": "E-8QuU5Z-Uie",
        "outputId": "94c2ed5b-69dd-430c-fe42-fbd5ead326f1"
      },
      "execution_count": null,
      "outputs": [
        {
          "output_type": "stream",
          "name": "stdout",
          "text": [
            "['False', 'None', 'True', 'and', 'as', 'assert', 'async', 'await', 'break', 'class', 'continue', 'def', 'del', 'elif', 'else', 'except', 'finally', 'for', 'from', 'global', 'if', 'import', 'in', 'is', 'lambda', 'nonlocal', 'not', 'or', 'pass', 'raise', 'return', 'try', 'while', 'with', 'yield']\n"
          ]
        }
      ]
    },
    {
      "cell_type": "code",
      "source": [
        "#Que.4 Write a program that checks if a given word is a Python keyword.\n",
        "\n",
        "import keyword\n",
        "\n",
        "word = input(\"Enter a word:\")\n",
        "if keyword.iskeyword(word):\n",
        "  print(f\"{word} is a python keyword\")\n",
        "else:\n",
        "    print(f\"{word} is not a python keyword\")\n"
      ],
      "metadata": {
        "colab": {
          "base_uri": "https://localhost:8080/"
        },
        "id": "GmQ2wgG5-Y-b",
        "outputId": "22113f9b-8549-4a2c-ea07-68d58ad18bc9"
      },
      "execution_count": null,
      "outputs": [
        {
          "output_type": "stream",
          "name": "stdout",
          "text": [
            "Enter a word:class\n",
            "class is a python keyword\n"
          ]
        }
      ]
    },
    {
      "cell_type": "code",
      "source": [
        "#Que.5 Create a list and tuple in Python, and demonstrate how attempting to change an element works differently for each.\n",
        "\n",
        "\n",
        "# Creating a list\n",
        "my_list = [1, 2, 3]\n",
        "print(\"Original list:\", my_list)\n",
        "\n",
        "# Modifying an element in the list\n",
        "my_list[1] = 99\n",
        "print(\"Modified list:\", my_list)\n",
        "\n",
        "# Creating a tuple\n",
        "my_tuple = (1, 2, 3)\n",
        "print(\"\\nOriginal tuple:\", my_tuple)\n",
        "\n",
        "# Attempting to modify an element in the tuple\n",
        "try:\n",
        "    my_tuple[1] = 99  # This will raise an error\n",
        "except TypeError as e:\n",
        "    print(\"Error:\", e)\n"
      ],
      "metadata": {
        "colab": {
          "base_uri": "https://localhost:8080/"
        },
        "id": "nm9yIArS-_fd",
        "outputId": "7c6e2557-92aa-4dd2-dab1-0d3db3505683"
      },
      "execution_count": null,
      "outputs": [
        {
          "output_type": "stream",
          "name": "stdout",
          "text": [
            "Original list: [1, 2, 3]\n",
            "Modified list: [1, 99, 3]\n",
            "\n",
            "Original tuple: (1, 2, 3)\n",
            "Error: 'tuple' object does not support item assignment\n"
          ]
        }
      ]
    },
    {
      "cell_type": "code",
      "source": [
        "#Que.6 Write a function to demonstrate the behavior of mutable and immutable arguments.\n",
        "\n",
        "def modify_arguments(immutable_arg, mutable_arg):\n",
        "    # Attempting to modify the immutable argument\n",
        "    immutable_arg += 10\n",
        "    print(\"Inside function (immutable):\", immutable_arg)\n",
        "\n",
        "    # Modifying the mutable argument\n",
        "    mutable_arg.append(99)\n",
        "    print(\"Inside function (mutable):\", mutable_arg)\n",
        "\n",
        "# Immutable argument (integer)\n",
        "num = 5\n",
        "# Mutable argument (list)\n",
        "numbers = [1, 2, 3]\n",
        "\n",
        "print(\"Before function call:\")\n",
        "print(\"Immutable argument:\", num)\n",
        "print(\"Mutable argument:\", numbers)\n",
        "\n",
        "modify_arguments(num, numbers)\n",
        "\n",
        "print(\"\\nAfter function call:\")\n",
        "print(\"Immutable argument:\", num)  # Remains unchanged\n",
        "print(\"Mutable argument:\", numbers)  # Changed due to in-place modification\n",
        "\n"
      ],
      "metadata": {
        "colab": {
          "base_uri": "https://localhost:8080/"
        },
        "id": "tbxWlD6V_yLQ",
        "outputId": "591876ce-eac1-4b40-dd98-bf50b8e7fecd"
      },
      "execution_count": null,
      "outputs": [
        {
          "output_type": "stream",
          "name": "stdout",
          "text": [
            "Before function call:\n",
            "Immutable argument: 5\n",
            "Mutable argument: [1, 2, 3]\n",
            "Inside function (immutable): 15\n",
            "Inside function (mutable): [1, 2, 3, 99]\n",
            "\n",
            "After function call:\n",
            "Immutable argument: 5\n",
            "Mutable argument: [1, 2, 3, 99]\n"
          ]
        }
      ]
    },
    {
      "cell_type": "code",
      "source": [
        "#Que.7 Write a program that performs basic arithmetic operations on two user-input numbers.\n",
        "\n",
        "num1 = int(input (\"Enter a number:\"))\n",
        "num2 = int(input (\"Enter a number\"))\n",
        "print(\"Addition of two number is\",num1 + num2)\n",
        "print(\"Substraction of two number is\",num1 - num2)\n",
        "print(\"Multiplication of two number is\",num1 * num2)\n",
        "print(\"Division of two number is\",num1 / num2)\n",
        "print(\"Modulus of two number is\",num1 % num2)\n",
        "print(\"Exponentation of two number is\",num1 ** num2)\n",
        "print(\"Floor division of two number is\",num1 // num2)\n"
      ],
      "metadata": {
        "colab": {
          "base_uri": "https://localhost:8080/"
        },
        "id": "2h3UastQAjZB",
        "outputId": "cef75ebd-9aae-4bce-b89c-f419fde93058"
      },
      "execution_count": null,
      "outputs": [
        {
          "output_type": "stream",
          "name": "stdout",
          "text": [
            "Enter a number:10\n",
            "Enter a number20\n",
            "Addition of two number is 30\n",
            "Substraction of two number is -10\n",
            "Multiplication of two number is 200\n",
            "Division of two number is 0.5\n",
            "Modulus of two number is 10\n",
            "Exponentation of two number is 100000000000000000000\n",
            "Floor division of two number is 0\n"
          ]
        }
      ]
    },
    {
      "cell_type": "markdown",
      "source": [],
      "metadata": {
        "id": "nqw3NN1J5fJV"
      }
    },
    {
      "cell_type": "code",
      "source": [
        "#Que.8 Write a program to demonstrate the use of logical operators.\n",
        "\n",
        "num1 = int(input(\"Enter a number:\"))\n",
        "num2 = int(input(\"Enter a number:\"))\n",
        "print(num1 > 0 and num2 >0)\n",
        "print(num1 > 0 or num2 >0)\n",
        "print(not num1 > 0)\n"
      ],
      "metadata": {
        "colab": {
          "base_uri": "https://localhost:8080/"
        },
        "id": "uu7gy2prA29i",
        "outputId": "9b1c9302-0e68-4587-a929-d4c4988c412c"
      },
      "execution_count": null,
      "outputs": [
        {
          "name": "stdout",
          "output_type": "stream",
          "text": [
            "Enter a number:20\n"
          ]
        }
      ]
    },
    {
      "cell_type": "code",
      "source": [
        "#Que.9 Write a Python program to convert user input from string to integer, float, and boolean types.\n",
        "\n",
        "str1 = int(input(\"Enter a string\"))\n",
        "print(\"Integer value is:\",str1)\n",
        "\n",
        "\n",
        "str2 = float(input(\"Enter a string\"))\n",
        "print(\"float value is:\",str2)\n",
        "\n",
        "str3 = bool(input(\"Enter a string\"))\n",
        "print(\"boolean value is:\",str3)\n"
      ],
      "metadata": {
        "colab": {
          "base_uri": "https://localhost:8080/"
        },
        "id": "amn6uBi1BBzm",
        "outputId": "2aed0e0a-64bd-49a9-c3a0-1bf51af93171"
      },
      "execution_count": null,
      "outputs": [
        {
          "output_type": "stream",
          "name": "stdout",
          "text": [
            "Enter a string10\n",
            "Integer value is: 10\n",
            "Enter a string10\n",
            "float value is: 10.0\n",
            "Enter a string10\n",
            "boolean value is: True\n"
          ]
        }
      ]
    },
    {
      "cell_type": "code",
      "source": [
        "#Que.10 Write code to demonstrate type casting with list elements.\n",
        "\n",
        "#Example1:\n",
        "# List with mixed data types (string numbers)\n",
        "str_list = [\"10\", \"20\", \"30\", \"40.5\", \"50.7\"]\n",
        "\n",
        "# Convert string elements to integers (if possible)\n",
        "int_list = [int(float(num)) for num in str_list]\n",
        "print(\"List converted to integers:\", int_list)\n",
        "\n",
        "# Convert string elements to floats\n",
        "float_list = [float(num) for num in str_list]\n",
        "print(\"List converted to floats:\", float_list)\n",
        "\n",
        "# Convert integers back to strings\n",
        "str_converted_list = [str(num) for num in int_list]\n",
        "print(\"List converted back to strings:\", str_converted_list)\n",
        "\n",
        "\n",
        "#Example2:\n",
        "list1 = [1,2,3,4,5,6]\n",
        "print(list1)\n",
        "\n",
        "list2 = [1.1,2.2,3.3,4.4,5.5,6.6]\n",
        "print(list2)\n",
        "\n",
        "list3 = [True,False,True,False]\n",
        "print(list3)\n",
        "\n",
        "list4 = [\"India\",\"is\",\"great\"]\n",
        "print(list4)\n",
        "\n",
        "list5 = [1,2.2,True,\"India\"]\n",
        "print(list5)"
      ],
      "metadata": {
        "colab": {
          "base_uri": "https://localhost:8080/"
        },
        "id": "1C5vEi4vBGON",
        "outputId": "148ebda5-c641-493a-a2a4-59a11b451617"
      },
      "execution_count": null,
      "outputs": [
        {
          "output_type": "stream",
          "name": "stdout",
          "text": [
            "List converted to integers: [10, 20, 30, 40, 50]\n",
            "List converted to floats: [10.0, 20.0, 30.0, 40.5, 50.7]\n",
            "List converted back to strings: ['10', '20', '30', '40', '50']\n",
            "[1, 2, 3, 4, 5, 6]\n",
            "[1.1, 2.2, 3.3, 4.4, 5.5, 6.6]\n",
            "[True, False, True, False]\n",
            "['India', 'is', 'great']\n",
            "[1, 2.2, True, 'India']\n"
          ]
        }
      ]
    },
    {
      "cell_type": "code",
      "source": [
        "#Que.11 Write a program that checks if a number is positive, negative, or zero.\n",
        "\n",
        "num = int(input(\"Enter a number:\"))\n",
        "if num > 0:\n",
        "  print(f\"{num} is a positive number\")\n",
        "elif num < 0:\n",
        "    print(f\"{num} is a negative number\")\n",
        "else:\n",
        "      print(f\"{num}is a zero\")\n"
      ],
      "metadata": {
        "colab": {
          "base_uri": "https://localhost:8080/"
        },
        "id": "Nh-uhbTnBQJK",
        "outputId": "df0a8ef0-ffff-4118-d629-e87667915e53"
      },
      "execution_count": null,
      "outputs": [
        {
          "output_type": "stream",
          "name": "stdout",
          "text": [
            "Enter a number:11\n",
            "11 is a positive number\n"
          ]
        }
      ]
    },
    {
      "cell_type": "code",
      "source": [
        "#Que.12 Write a for loop to print numbers from 1 to 10\n",
        "\n",
        "for number in range(1,11):\n",
        "  print(number)\n"
      ],
      "metadata": {
        "colab": {
          "base_uri": "https://localhost:8080/"
        },
        "id": "xBkREMpmBVsY",
        "outputId": "022b698f-e28d-4a1f-ed27-9cfa2e713fe9"
      },
      "execution_count": null,
      "outputs": [
        {
          "output_type": "stream",
          "name": "stdout",
          "text": [
            "1\n",
            "2\n",
            "3\n",
            "4\n",
            "5\n",
            "6\n",
            "7\n",
            "8\n",
            "9\n",
            "10\n"
          ]
        }
      ]
    },
    {
      "cell_type": "code",
      "source": [
        "#Que.13 Write a Python program to find the sum of all even numbers between 1 and 50.\n",
        "\n",
        "#Example1:\n",
        "total_sum = 0  # Initialize a variable to store the sum\n",
        "\n",
        "for number in range(2, 50, 2):  # Iterate through even numbers from 2 to 50\n",
        "    total_sum += number  # Add the current number to the total sum\n",
        "\n",
        "print(\"The sum of all even numbers between 1 and 50 is:\", total_sum)\n",
        "\n",
        "\n",
        "\n",
        "#Example2:\n",
        "total_sum = 0\n",
        "for number in range(1,50):\n",
        "  if number % 2 == 0:\n",
        "    total_sum += number\n",
        "print(\"The sum of all even numbers between 1 and 50 is:\",total_sum)\n",
        "\n"
      ],
      "metadata": {
        "colab": {
          "base_uri": "https://localhost:8080/"
        },
        "id": "f-CUaeWzBaXA",
        "outputId": "b91fac4b-f860-4b0b-926f-67414a8dd70f"
      },
      "execution_count": null,
      "outputs": [
        {
          "output_type": "stream",
          "name": "stdout",
          "text": [
            "The sum of all even numbers between 1 and 50 is: 600\n",
            "The sum of all even numbers between 1 and 50 is: 600\n"
          ]
        }
      ]
    },
    {
      "cell_type": "code",
      "source": [
        "#Que.14 Write a program to reverse a string using a while loop.\n",
        "\n",
        "str1 = \"India is great.\"\n",
        "print(str1[::-1])\n"
      ],
      "metadata": {
        "colab": {
          "base_uri": "https://localhost:8080/"
        },
        "id": "dtU_CqFVBePT",
        "outputId": "f4520592-84d4-423a-aa8f-38d6cd020427"
      },
      "execution_count": null,
      "outputs": [
        {
          "output_type": "stream",
          "name": "stdout",
          "text": [
            ".taerg si aidnI\n"
          ]
        }
      ]
    },
    {
      "cell_type": "code",
      "source": [
        "#Que.15 Write a Python program to calculate the factorial of a number provided by the user using a while loop.\n",
        "\n",
        "# Get input from the user\n",
        "n = int(input(\"Enter a number: \"))\n",
        "\n",
        "# Initialize factorial variable\n",
        "factorial = 1\n",
        "\n",
        "# Calculate factorial using a while loop\n",
        "while n > 1:\n",
        "    factorial *= n\n",
        "    n -= 1\n",
        "\n",
        "# Print the factorial\n",
        "print(\"The factorial is:\", factorial)\n",
        "\n"
      ],
      "metadata": {
        "colab": {
          "base_uri": "https://localhost:8080/"
        },
        "id": "5XYuwpo2BtTn",
        "outputId": "33713947-20f2-4aa1-d86c-1c7190157a59"
      },
      "execution_count": null,
      "outputs": [
        {
          "output_type": "stream",
          "name": "stdout",
          "text": [
            "Enter a number: 50\n",
            "The factorial is: 30414093201713378043612608166064768844377641568960512000000000000\n"
          ]
        }
      ]
    }
  ]
}